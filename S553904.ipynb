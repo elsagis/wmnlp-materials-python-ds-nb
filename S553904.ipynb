{
 "cells": [
  {
   "cell_type": "markdown",
   "id": "5d9505bb-f11c-4857-945b-fb1227c38556",
   "metadata": {},
   "source": [
    "# Elsa Ghirmazion\n"
   ]
  },
  {
   "cell_type": "code",
   "execution_count": 41,
   "id": "b978f659-a973-40cd-b3cc-146dae7d626c",
   "metadata": {},
   "outputs": [
    {
     "name": "stdout",
     "output_type": "stream",
     "text": [
      "*      *\n",
      "**    **\n",
      "***  ***\n",
      "********\n"
     ]
    }
   ],
   "source": [
    " for i in range(1,5):\n",
    "   void = 8 - 2*i\n",
    "   for j in range(i):\n",
    "     print('*', end='')\n",
    "   for j in range(void):\n",
    "     print(' ', end='')\n",
    "   for j in range(i):\n",
    "     print('*', end='')\n",
    "   print()\n",
    "    "
   ]
  },
  {
   "cell_type": "code",
   "execution_count": null,
   "id": "f25ea453-dc6d-45db-9975-5ab9f2641d0c",
   "metadata": {},
   "outputs": [],
   "source": []
  }
 ],
 "metadata": {
  "kernelspec": {
   "display_name": "Python 3 (ipykernel)",
   "language": "python",
   "name": "python3"
  },
  "language_info": {
   "codemirror_mode": {
    "name": "ipython",
    "version": 3
   },
   "file_extension": ".py",
   "mimetype": "text/x-python",
   "name": "python",
   "nbconvert_exporter": "python",
   "pygments_lexer": "ipython3",
   "version": "3.9.12"
  },
  "widgets": {
   "application/vnd.jupyter.widget-state+json": {
    "state": {},
    "version_major": 2,
    "version_minor": 0
   }
  }
 },
 "nbformat": 4,
 "nbformat_minor": 5
}
